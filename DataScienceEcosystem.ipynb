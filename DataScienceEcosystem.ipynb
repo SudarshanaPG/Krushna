{
 "cells": [
  {
   "cell_type": "markdown",
   "id": "ff94e3f5-e4cb-42f5-9a64-531976713f42",
   "metadata": {},
   "source": [
    "# Data Science Tools and Ecosystem"
   ]
  },
  {
   "cell_type": "markdown",
   "id": "cb6b5ec6-fbf5-42e0-9335-7fa9f8b3b0ed",
   "metadata": {},
   "source": [
    "In this notebook, Data Science Tools and Ecosystem are summerised."
   ]
  },
  {
   "cell_type": "markdown",
   "id": "66335f54-c41e-4eb8-9e3e-7ed48be68728",
   "metadata": {},
   "source": [
    "Some of the popular languages that Data Scientist use are:\n",
    "1. Python\n",
    "2. R\n",
    "3. SQL\n",
    "4. Julia"
   ]
  },
  {
   "cell_type": "markdown",
   "id": "2b295f4c-8ae2-4447-8779-9cef98658f0f",
   "metadata": {},
   "source": [
    "Some of the commonly used libraries used by Data Scientist include:\n",
    "1. NumPy\n",
    "2. Pandas\n",
    "3. Matplotlib\n",
    "4. Scikit-Learn"
   ]
  },
  {
   "cell_type": "markdown",
   "id": "694da1ae-128b-4c05-8e06-14c4dd590f8f",
   "metadata": {},
   "source": [
    "| Data Science Tools |\n",
    "|--------------------|\n",
    "| Rstudio |\n",
    "| Apache Spark |\n",
    "| Hadoop |"
   ]
  },
  {
   "cell_type": "markdown",
   "id": "bf0a57d2-ff1a-408b-95aa-3200b1a071b2",
   "metadata": {},
   "source": [
    "### Below are the few examples of evaluating arithmetic expressions in Python :"
   ]
  },
  {
   "cell_type": "code",
   "execution_count": 1,
   "id": "aeae4ac8-9d01-4ec9-87e8-8983df34898e",
   "metadata": {
    "tags": []
   },
   "outputs": [
    {
     "name": "stdout",
     "output_type": "stream",
     "text": [
      "17\n"
     ]
    }
   ],
   "source": [
    "# this is a simple arithmetic expression to muliply then add integers\n",
    "a = (3*4)+5\n",
    "print(a)\n"
   ]
  },
  {
   "cell_type": "code",
   "execution_count": 2,
   "id": "8a79b71b-9681-4761-b1de-012e4a198f5b",
   "metadata": {
    "tags": []
   },
   "outputs": [
    {
     "name": "stdout",
     "output_type": "stream",
     "text": [
      "200 minutes is  3  Hours  20  minutes \n"
     ]
    }
   ],
   "source": [
    "# this will convert 200 minutes into hours by dividing by 60 \n",
    "b = 200\n",
    "c = 200//60\n",
    "d = 200%60\n",
    "print('200 minutes is ',c,' Hours ',d,' minutes ')"
   ]
  },
  {
   "cell_type": "markdown",
   "id": "90239dd1-1352-4e72-8c47-bba48fcdc225",
   "metadata": {},
   "source": [
    "**Objectives:**\n",
    "- Data science tasks categories are Data Management, Data Integration, Transformation, Data Visualization and Modeling\n",
    "- Python is a open source, R is a free software\n",
    "- Open data is fundamental to Data science\n",
    "- Libraries usually contain built in modules that provide different functionalities \n",
    "- A Distributed Version Control System helps to keep track of the changes to code, regardless of where it is stored "
   ]
  },
  {
   "cell_type": "markdown",
   "id": "33d165fb-7a00-4396-8349-659e5b2279be",
   "metadata": {},
   "source": [
    "## Author\n",
    "Sudarshana PG"
   ]
  },
  {
   "cell_type": "code",
   "execution_count": null,
   "id": "85086b41-1138-4d3b-911f-ea09742de971",
   "metadata": {},
   "outputs": [],
   "source": []
  }
 ],
 "metadata": {
  "kernelspec": {
   "display_name": "Python",
   "language": "python",
   "name": "conda-env-python-py"
  },
  "language_info": {
   "codemirror_mode": {
    "name": "ipython",
    "version": 3
   },
   "file_extension": ".py",
   "mimetype": "text/x-python",
   "name": "python",
   "nbconvert_exporter": "python",
   "pygments_lexer": "ipython3",
   "version": "3.7.12"
  }
 },
 "nbformat": 4,
 "nbformat_minor": 5
}
